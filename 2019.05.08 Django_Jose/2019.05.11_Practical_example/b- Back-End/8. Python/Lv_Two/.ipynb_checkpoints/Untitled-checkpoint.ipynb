{
 "cells": [
  {
   "cell_type": "code",
   "execution_count": null,
   "metadata": {},
   "outputs": [],
   "source": [
    "deck ={}\n",
    "item =\"a\"+\"b\"\n",
    "deck =[1,2,3,4,5,6,7,8,9]"
   ]
  },
  {
   "cell_type": "code",
   "execution_count": null,
   "metadata": {},
   "outputs": [],
   "source": [
    "from random import shuffle\n",
    "shuffle(deck)"
   ]
  },
  {
   "cell_type": "code",
   "execution_count": null,
   "metadata": {},
   "outputs": [],
   "source": [
    "del deck"
   ]
  },
  {
   "cell_type": "code",
   "execution_count": null,
   "metadata": {},
   "outputs": [],
   "source": [
    "SUITE = 'H D S C'.split()\n",
    "RANKS = '2 3 4 5 6 7 8 9 10 J Q K A'.split()\n",
    "deck=[]\n",
    "\n",
    "for x in RANKS:\n",
    "    for y in SUITE:\n",
    "        item = [x+y]\n",
    "        deck+=item\n",
    "deck=[deck[0:26],deck[26:]]\n",
    "print(deck)"
   ]
  },
  {
   "cell_type": "code",
   "execution_count": null,
   "metadata": {},
   "outputs": [],
   "source": [
    "RANKS"
   ]
  },
  {
   "cell_type": "code",
   "execution_count": null,
   "metadata": {},
   "outputs": [],
   "source": [
    " deck += item\n",
    "import random\n",
    "shuffle(deck)  \n",
    "deck=[[deck[0:26]],[deck[26:]]]"
   ]
  },
  {
   "cell_type": "code",
   "execution_count": null,
   "metadata": {},
   "outputs": [],
   "source": [
    "a=['a']\n",
    "b=['b']\n",
    "d=['d']\n",
    "c=[]\n",
    "c+=a\n",
    "print(c)\n",
    "c+=b\n",
    "print(c)\n",
    "c+=d\n",
    "print(c)"
   ]
  },
  {
   "cell_type": "code",
   "execution_count": null,
   "metadata": {},
   "outputs": [],
   "source": [
    "from random import shuffle\n",
    "class Deck:\n",
    "    \"\"\"\n",
    "    This is the Deck Class. This object will create a deck of cards to initiate\n",
    "    play. You can then use this Deck list of cards to split in half and give to\n",
    "    the players. It will use SUITE and RANKS to create the deck. It should also\n",
    "    have a method for splitting/cutting the deck in half and Shuffling the deck.\n",
    "    \"\"\"    \n",
    "    def __init__(self):\n",
    "        deck=[]\n",
    "        SUITE = 'H D S C'.split()\n",
    "        RANKS = '2 3 4 5 6 7 8 9 10 J Q K A'.split()\n",
    "        for x in SUITE:\n",
    "            for y in RANKS:\n",
    "                item = [x+y]\n",
    "                deck += item\n",
    "        shuffle(deck)\n",
    "        self.deck=[deck[0:26],deck[26:]]\n",
    "        self.deck=[deck[0:26],deck[26:]]"
   ]
  },
  {
   "cell_type": "code",
   "execution_count": null,
   "metadata": {},
   "outputs": [],
   "source": [
    "a = Deck()"
   ]
  },
  {
   "cell_type": "code",
   "execution_count": null,
   "metadata": {},
   "outputs": [],
   "source": [
    "a.deck"
   ]
  },
  {
   "cell_type": "code",
   "execution_count": null,
   "metadata": {},
   "outputs": [],
   "source": [
    "cards =[1,2,3,4]\n",
    "a= cards.pop(0)\n",
    "print(a,cards)"
   ]
  },
  {
   "cell_type": "code",
   "execution_count": null,
   "metadata": {},
   "outputs": [],
   "source": [
    "a =[]\n",
    "len(a)"
   ]
  },
  {
   "cell_type": "code",
   "execution_count": null,
   "metadata": {},
   "outputs": [],
   "source": [
    "a ='asdasdasdas'\n",
    "b=[]\n",
    "c={1,2}\n",
    "d={4}\n",
    "c = c + d\n",
    "c"
   ]
  },
  {
   "cell_type": "code",
   "execution_count": null,
   "metadata": {},
   "outputs": [],
   "source": [
    "b"
   ]
  },
  {
   "cell_type": "code",
   "execution_count": null,
   "metadata": {},
   "outputs": [],
   "source": [
    "type(2) == int"
   ]
  },
  {
   "cell_type": "code",
   "execution_count": null,
   "metadata": {},
   "outputs": [],
   "source": [
    "def compare(a,b):\n",
    "    a = list(a)[0]\n",
    "    b = list(b)[0]\n",
    "    # A fucntion to cal Score\n",
    "    def score(a):    \n",
    "        if( a == 'J'):\n",
    "            a_score = 11\n",
    "        elif( a == 'Q'):\n",
    "            a_score = 12\n",
    "        elif( a == 'K'):\n",
    "            a_score = 13\n",
    "        elif( a == 'A'):\n",
    "            a_score = 14\n",
    "        else:\n",
    "            a_score = int(a)\n",
    "        return a_score\n",
    "    # Score for a\n",
    "    a_score= score(a)\n",
    "    # Score for b\n",
    "    b_score = score(b) \n",
    "\n",
    "    # Compare:\n",
    "\n",
    "    if a_score > b_score:\n",
    "        return 'PLayer'\n",
    "    elif a_score == b_score:\n",
    "        return 'Same'\n",
    "    else:\n",
    "        return 'Computer'\n"
   ]
  },
  {
   "cell_type": "code",
   "execution_count": null,
   "metadata": {},
   "outputs": [],
   "source": [
    "compare('AS','AH')"
   ]
  },
  {
   "cell_type": "code",
   "execution_count": null,
   "metadata": {},
   "outputs": [],
   "source": [
    "type(list('5S')[len(list('5S'))-2])"
   ]
  },
  {
   "cell_type": "code",
   "execution_count": null,
   "metadata": {},
   "outputs": [],
   "source": [
    "asd()"
   ]
  },
  {
   "cell_type": "code",
   "execution_count": null,
   "metadata": {},
   "outputs": [],
   "source": [
    "a"
   ]
  },
  {
   "cell_type": "code",
   "execution_count": null,
   "metadata": {},
   "outputs": [],
   "source": [
    "a = 123\n",
    "def abc():\n",
    "    a = a +1\n",
    "    print(a)"
   ]
  },
  {
   "cell_type": "code",
   "execution_count": null,
   "metadata": {},
   "outputs": [],
   "source": [
    "abc()"
   ]
  },
  {
   "cell_type": "code",
   "execution_count": null,
   "metadata": {},
   "outputs": [],
   "source": [
    "int('6')"
   ]
  },
  {
   "cell_type": "code",
   "execution_count": null,
   "metadata": {},
   "outputs": [],
   "source": []
  },
  {
   "cell_type": "code",
   "execution_count": null,
   "metadata": {},
   "outputs": [],
   "source": [
    "#####################################\n",
    "### WELCOME TO YOUR OOP PROJECT #####\n",
    "#####################################\n",
    "\n",
    "# For this project you will be using OOP to create a card game. This card game will\n",
    "# be the card game \"War\" for two players, you an the computer. If you don't know\n",
    "# how to play \"War\" here are the basic rules:\n",
    "#\n",
    "# The deck is divided evenly, with each player receiving 26 cards, dealt one at a time,\n",
    "# face down. Anyone may deal first. Each player places his stack of cards face down,\n",
    "# in front of him.\n",
    "#\n",
    "# The Play:\n",
    "#\n",
    "# Each player turns up a card at the same time and the player with the higher card\n",
    "# takes both cards and puts them, face down, on the bottom of his stack.\n",
    "#\n",
    "# If the cards are the same rank, it is War. Each player turns up three cards face\n",
    "# down and one card face up. The player with the higher cards takes both piles\n",
    "# (six cards). If the turned-up cards are again the same rank, each player places\n",
    "# another card face down and turns another card face up. The player with the\n",
    "# higher card takes all 10 cards, and so on.\n",
    "#\n",
    "# There are some more variations on this but we will keep it simple for now.\n",
    "# Ignore \"double\" wars\n",
    "#\n",
    "# https://en.wikipedia.org/wiki/War_(card_game)\n",
    "\n",
    "from random import shuffle\n",
    "\n",
    "# Two useful variables for creating Cards.\n",
    "# SUITE = 'H D S C'.split()\n",
    "# RANKS = '2 3 4 5 6 7 8 9 10 J Q K A'.split()\n",
    "# I move the aobve lists in to Deck class\n",
    "class Deck:\n",
    "    \"\"\"\n",
    "    This is the Deck Class. This object will create a deck of cards to initiate\n",
    "    play. You can then use this Deck list of cards to split in half and give to\n",
    "    the players. It will use SUITE and RANKS to create the deck. It should also\n",
    "    have a method for splitting/cutting the deck in half and Shuffling the deck.\n",
    "    \"\"\"\n",
    "    def __init__(self):\n",
    "        deck=[]\n",
    "        SUITE = 'H D S C'.split()\n",
    "        RANKS = '2 3 4 5 6 7 8 9 10 J Q K A'.split()\n",
    "        for x in RANKS:\n",
    "            for y in SUITE:\n",
    "                item = [x+y]\n",
    "                deck += item\n",
    "        shuffle(deck)\n",
    "        self.deck=[deck[0:26],deck[26:]]\n",
    "class Hand:\n",
    "    \"\"\"\n",
    "    I moved All the method and function in this class in to the Player class\n",
    "    \"\"\"\n",
    "    pass\n",
    "\n",
    "class Player:\n",
    "    '''\n",
    "    This is from the Hand class. Each player has a Hand, and can add or remove\n",
    "    cards from that hand. There should be an add and remove card method here.\n",
    "    '''\n",
    "    name=\"\"\n",
    "    cards=[]\n",
    "    def add(self,cards):\n",
    "        self.cards += cards\n",
    "    def remove(self):\n",
    "        a = self.cards.pop(0)\n",
    "        return a\n",
    "    \"\"\"\n",
    "    This is the Player class, which takes in a name and an instance of a Hand\n",
    "    class object. The Player can then play cards and check if they still have cards.\n",
    "    \"\"\"\n",
    "    def check(self):\n",
    "        if len(self.cards)==0:\n",
    "            return True\n",
    "        else:\n",
    "            return False\n",
    "\n",
    "\n",
    "# Fucntion to care score of 2 cards\n",
    "def compare(a,b):\n",
    "    a = list(a)[0]\n",
    "    b = list(b)[0]\n",
    "    # A fucntion to cal Score\n",
    "    def score(a):\n",
    "        if( a == 'J'):\n",
    "            a_score = 11\n",
    "        elif( a == 'Q'):\n",
    "            a_score = 12\n",
    "        elif( a == 'K'):\n",
    "            a_score = 13\n",
    "        elif( a == 'A'):\n",
    "            a_score = 14\n",
    "        else:\n",
    "            a_score = int(a)\n",
    "        return a_score\n",
    "    # Score for a\n",
    "    a_score= score(a)\n",
    "    # Score for b\n",
    "    b_score = score(b)\n",
    "\n",
    "    # Compare:\n",
    "\n",
    "    if a_score > b_score:\n",
    "        return 'PLayer'\n",
    "    elif a_score == b_score:\n",
    "        return 'Same'\n",
    "    else:\n",
    "        return 'Computer'\n",
    "\n",
    "\n",
    "\n",
    "\n",
    "######################\n",
    "#### GAME PLAY #######\n",
    "######################\n",
    "\n",
    "#First, welcome our 2 create 2 players\n",
    "\n",
    "print(\"Welcome to War, let's begin...\")\n",
    "player=Player()\n",
    "computer=Player()\n",
    "computer.name ='Computer'\n",
    "player.name = input(\"Hi, player 1, what's your name?\")\n",
    "print(\"\\n\")\n",
    "\n",
    "while True:\n",
    "\n",
    "    # Show\n",
    "    deck = Deck()\n",
    "    player.cards = deck.deck[0]\n",
    "    computer.cards = deck.deck[1]\n",
    "    print(f\"{player.name}, your cards are: {player.cards} \")\n",
    "    print(\"\\n\")\n",
    "    table =[]\n",
    "    turn = 0\n",
    "    while True:\n",
    "        input('Press any key to continue')\n",
    "        print(\"\\n\")\n",
    "        print(f'Turn {turn} starts')\n",
    "        print(\"\\n\")\n",
    "        # Table includes 2 list. The first one is Player's war card. The second one is Computer's war cards\n",
    "        table = [[player.remove()],[computer.remove()]]\n",
    "        print(f\" player1 have {table[0]}, computer have {table[1]}\")\n",
    "        print(\"\\n\")\n",
    "\n",
    "\n",
    "        # First time \"Same\"\n",
    "                    #First list's last item   ,  #Second list's last Item\n",
    "        if compare(table[0][len(table[0])-1],table[1][len(table[1])-1]) == \"Same\":\n",
    "            print('PLayer and Computer have the same score, we have 6 more cards on the war table')\n",
    "            print(\"\\n\")\n",
    "            table[0] += [player.remove()] + [player.remove()]+ [player.remove()]\n",
    "            table[1] += [computer.remove()] + [computer.remove()] + [computer.remove()]\n",
    "            print(f\" player1 have {table[0]}, computer have {table[1]}\")\n",
    "            print(\"\\n\")\n",
    "\n",
    "            # The second and beyond of \"Same\"\n",
    "            while compare(table[0][len(table[0])-1],table[1][len(table[1])-1]) ==\"Same\":\n",
    "                if player.check() or computer.check():\n",
    "                    break\n",
    "                print('PLayer and Computer have the same score, we need 2 more cards on the war table')\n",
    "                print(\"\\n\")\n",
    "                input('Press any key to continue')\n",
    "                print(\"\\n\")\n",
    "                table[0] += [player.remove()]\n",
    "                table[1] += [computer.remove()]\n",
    "                print(f\" player1 have {table[0]}, computer have {table[1]}\")\n",
    "                print(\"\\n\")\n",
    "\n",
    "            # Whenever the reuls of compare is not Same. This happen.\n",
    "            else:\n",
    "                if (table[0][len(table[0])-1],table[1][len(table[1])-1]) ==\"Player\":\n",
    "                    print(f\"PLayer win this round. Player take all the cards {table[0]} and {table[1]}\")\n",
    "                    print(\"\\n\")\n",
    "                    player.add(table[0])\n",
    "                    player.add(table[1])\n",
    "                else:\n",
    "                    print(f\"Computer win this round. Computer take all the cards {table[0]} and {table[1]}\")\n",
    "                    print(\"\\n\")\n",
    "                    computer.add(table[0])\n",
    "                    computer.add(table[1])\n",
    "\n",
    "        # If there isn't any Same: from the Beginning\n",
    "        else:\n",
    "            if (table[0][len(table[0])-1],table[1][len(table[1])-1]) ==\"Player\":\n",
    "                print(f\"PLayer win this round. Player take all the cards {table[0]} and {table[1]}\")\n",
    "                print(\"\\n\")\n",
    "                player.add(table[0])\n",
    "                player.add(table[1])\n",
    "            else:\n",
    "                print(f\"Computer win this round. Computer take all the cards {table[0]} and {table[1]}\")\n",
    "                print(\"\\n\")\n",
    "                computer.add(table[0])\n",
    "                computer.add(table[1])\n",
    "        print(f\"Your cards are now: {player.cards}\")\n",
    "        print(\"\\n\")\n",
    "        if player.check():\n",
    "            print(\"Unfortunately, Computer has won. \")\n",
    "            print(\"\\n\")\n",
    "            break\n",
    "        if computer.check():\n",
    "            print(\"Congratualation, You has won. \")\n",
    "            print(\"\\n\")\n",
    "            break\n",
    "        turn +=1\n",
    "\n",
    "    if input(\"Do you want to play one more game ?, Please answer Y/N\").lower()==\"Y\":\n",
    "        print(\"\\n\")\n",
    "        continue\n",
    "    else:\n",
    "        print(f\"Thank you for enjoying our game. We hope to see you again, {player.name}\")\n",
    "        print(\"\\n\")\n",
    "        break\n",
    "\n",
    "\n",
    "\n",
    "\n",
    "\n",
    "\n",
    "\n",
    "\n",
    "\n",
    "\n",
    "\n",
    "# Use the 3 classes along with some logic to play a game of war!\n"
   ]
  },
  {
   "cell_type": "code",
   "execution_count": null,
   "metadata": {},
   "outputs": [],
   "source": [
    "[[1,2,3,4].pop(2)]"
   ]
  },
  {
   "cell_type": "code",
   "execution_count": null,
   "metadata": {},
   "outputs": [],
   "source": [
    "'A'.lower()"
   ]
  },
  {
   "cell_type": "code",
   "execution_count": null,
   "metadata": {},
   "outputs": [],
   "source": [
    "d\n",
    "d\n",
    "d"
   ]
  },
  {
   "cell_type": "code",
   "execution_count": null,
   "metadata": {},
   "outputs": [],
   "source": [
    "print(\"\\n\")"
   ]
  },
  {
   "cell_type": "code",
   "execution_count": null,
   "metadata": {},
   "outputs": [],
   "source": []
  }
 ],
 "metadata": {
  "kernelspec": {
   "display_name": "Python 3",
   "language": "python",
   "name": "python3"
  },
  "language_info": {
   "codemirror_mode": {
    "name": "ipython",
    "version": 3
   },
   "file_extension": ".py",
   "mimetype": "text/x-python",
   "name": "python",
   "nbconvert_exporter": "python",
   "pygments_lexer": "ipython3",
   "version": "3.7.1"
  }
 },
 "nbformat": 4,
 "nbformat_minor": 2
}
