{
 "cells": [
  {
   "cell_type": "markdown",
   "metadata": {},
   "source": [
    "# Errors and Exceptions Homework"
   ]
  },
  {
   "cell_type": "markdown",
   "metadata": {},
   "source": [
    "### Problem 1\n",
    "Handle the exception thrown by the code below by using <code>try</code> and <code>except</code> blocks."
   ]
  },
  {
   "cell_type": "code",
   "execution_count": null,
   "metadata": {},
   "outputs": [],
   "source": [
    "u=0\n",
    "for i in ['a','b','c']:\n",
    "    u+=1\n",
    "    try:\n",
    "        print(i**2)\n",
    "    except:\n",
    "        print(\"Sorry, this value cann't be quared\")\n",
    "    finally:\n",
    "        if u!=len(['a','b','c']):\n",
    "            print(\"We will try with the other values\")\n",
    "        else:\n",
    "            print(\"All done\")\n",
    "            print(f\"Number of excecution: {u}\")\n"
   ]
  },
  {
   "cell_type": "markdown",
   "metadata": {},
   "source": [
    "### Problem 2\n",
    "Handle the exception thrown by the code below by using <code>try</code> and <code>except</code> blocks. Then use a <code>finally</code> block to print 'All Done.'"
   ]
  },
  {
   "cell_type": "code",
   "execution_count": null,
   "metadata": {},
   "outputs": [],
   "source": [
    "x = 5\n",
    "y = 0\n",
    "try:\n",
    "    z = x/y\n",
    "except:\n",
    "    print(\"Sorrrry but this math cann't be excecuted\")\n",
    "finally:\n",
    "    print(\"All done, bro\")"
   ]
  },
  {
   "cell_type": "markdown",
   "metadata": {},
   "source": [
    "### Problem 3\n",
    "Write a function that asks for an integer and prints the square of it. Use a <code>while</code> loop with a <code>try</code>, <code>except</code>, <code>else</code> block to account for incorrect inputs."
   ]
  },
  {
   "cell_type": "code",
   "execution_count": 9,
   "metadata": {},
   "outputs": [],
   "source": [
    "def ask_for_int():\n",
    "    while True:\n",
    "        try:\n",
    "            integer=int(input(\"Please input a number: \\n\"))\n",
    "        except:\n",
    "            print(\"Oh, its not seem to be like a number, please input again\")\n",
    "        else:\n",
    "            print(\"Yes, thank you, we receive your number now\")\n",
    "            print(f\"Your number to the square equal: {integer**2}\")\n",
    "            break\n",
    "        finally:\n",
    "             print(\"End of try/except/else/finally block of code\")\n",
    "        print(\"(whisper): pls be carefull, bro\")"
   ]
  },
  {
   "cell_type": "code",
   "execution_count": 10,
   "metadata": {},
   "outputs": [
    {
     "name": "stdout",
     "output_type": "stream",
     "text": [
      "Please input a number: \n",
      "f\n",
      "Oh, its not seem to be like a number, please input again\n",
      "End of try/except/else/finally block of code\n",
      "(whisper): pls be carefull, bro\n",
      "Please input a number: \n",
      "3\n",
      "Yes, thank you, we receive your number now\n",
      "Your number to the square equal: 9\n",
      "End of try/except/else/finally block of code\n"
     ]
    }
   ],
   "source": [
    "ask_for_int()"
   ]
  },
  {
   "cell_type": "code",
   "execution_count": null,
   "metadata": {},
   "outputs": [],
   "source": []
  },
  {
   "cell_type": "markdown",
   "metadata": {},
   "source": [
    "# Great Job!"
   ]
  }
 ],
 "metadata": {
  "kernelspec": {
   "display_name": "Python 3",
   "language": "python",
   "name": "python3"
  },
  "language_info": {
   "codemirror_mode": {
    "name": "ipython",
    "version": 3
   },
   "file_extension": ".py",
   "mimetype": "text/x-python",
   "name": "python",
   "nbconvert_exporter": "python",
   "pygments_lexer": "ipython3",
   "version": "3.7.1"
  }
 },
 "nbformat": 4,
 "nbformat_minor": 1
}
