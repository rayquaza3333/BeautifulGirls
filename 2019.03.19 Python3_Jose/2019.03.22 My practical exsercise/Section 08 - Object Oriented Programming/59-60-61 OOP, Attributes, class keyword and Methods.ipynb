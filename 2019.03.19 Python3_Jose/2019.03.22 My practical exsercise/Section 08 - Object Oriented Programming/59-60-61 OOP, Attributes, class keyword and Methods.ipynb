{
 "cells": [
  {
   "cell_type": "code",
   "execution_count": null,
   "metadata": {},
   "outputs": [],
   "source": [
    "class Example():\n",
    "    def __init__(self,bread,unknow):\n",
    "        self.bread=str(bread)\n",
    "    def instance_method(self):\n",
    "        print('Ok this '+'is an instance '+self.bread)\n",
    "    def __del__(self):\n",
    "        print('This example should have been removed')\n",
    "    def __alo__(self):\n",
    "        print('what would happen?')"
   ]
  },
  {
   "cell_type": "code",
   "execution_count": 2,
   "metadata": {},
   "outputs": [
    {
     "name": "stdout",
     "output_type": "stream",
     "text": [
      "0\n",
      "This method is unchaged0\n"
     ]
    }
   ],
   "source": [
    "class Casino():\n",
    "    balance=0\n",
    "    def __init__(self):\n",
    "        print(self.balance)\n",
    "        pass\n",
    "    def change(self):\n",
    "        print(\"This is change in mother class\")\n",
    "    def default(self):\n",
    "        print(\"This method is unchaged\"+str(self.balance))\n",
    "        \n",
    "class Dealer(Casino):\n",
    "    def change(self):\n",
    "        print(f\"This is change in Dealer class {self.balance}\")\n",
    "class Playey(Casino):\n",
    "    def change(self):\n",
    "        print(\"This is change in Player class\")\n",
    "        \n",
    "a=Dealer()\n",
    "a.default()"
   ]
  },
  {
   "cell_type": "code",
   "execution_count": 5,
   "metadata": {},
   "outputs": [
    {
     "name": "stdout",
     "output_type": "stream",
     "text": [
      "0\n",
      "This is change in Dealer class 0\n"
     ]
    }
   ],
   "source": [
    "class Casino():\n",
    "    balance=0\n",
    "    def __init__(self):\n",
    "        print(self.balance)\n",
    "        pass\n",
    "    def change(self):\n",
    "        print(\"This is change in mother class\")\n",
    "    def default(self):\n",
    "        print(\"This method is unchaged\"+str(self.balance))\n",
    "        \n",
    "class Dealer(Casino):\n",
    "    def change(self):\n",
    "        print(f\"This is change in Dealer class {self.balance}\")\n",
    "class Playey(Casino):\n",
    "    def change(self):\n",
    "        print(\"This is change in Player class\")\n",
    "        \n",
    "a=Dealer\n",
    "b=a()\n",
    "b.change()"
   ]
  },
  {
   "cell_type": "markdown",
   "metadata": {},
   "source": [
    "Create a class Circle.\n",
    "Attribute are radius.\n",
    "Methods to calculate area and circumference."
   ]
  },
  {
   "cell_type": "code",
   "execution_count": null,
   "metadata": {},
   "outputs": [],
   "source": [
    "import math\n",
    "math.pi"
   ]
  },
  {
   "cell_type": "code",
   "execution_count": null,
   "metadata": {},
   "outputs": [],
   "source": [
    "a=Example(1,2)"
   ]
  },
  {
   "cell_type": "code",
   "execution_count": null,
   "metadata": {},
   "outputs": [],
   "source": [
    "a.instance_method()"
   ]
  },
  {
   "cell_type": "code",
   "execution_count": null,
   "metadata": {},
   "outputs": [],
   "source": []
  }
 ],
 "metadata": {
  "kernelspec": {
   "display_name": "Python 3",
   "language": "python",
   "name": "python3"
  },
  "language_info": {
   "codemirror_mode": {
    "name": "ipython",
    "version": 3
   },
   "file_extension": ".py",
   "mimetype": "text/x-python",
   "name": "python",
   "nbconvert_exporter": "python",
   "pygments_lexer": "ipython3",
   "version": "3.7.1"
  }
 },
 "nbformat": 4,
 "nbformat_minor": 2
}
