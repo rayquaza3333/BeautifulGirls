{
 "cells": [
  {
   "cell_type": "code",
   "execution_count": 4,
   "metadata": {},
   "outputs": [
    {
     "name": "stdout",
     "output_type": "stream",
     "text": [
      "Example created\n",
      "Example created\n"
     ]
    }
   ],
   "source": [
    "class Example():\n",
    "    print('Example created')\n",
    "    def __init__(self):\n",
    "        print('Example created')\n",
    "    print('Example created')\n",
    "    def a_method_s_name(self):\n",
    "        print('OK fine')"
   ]
  },
  {
   "cell_type": "markdown",
   "metadata": {},
   "source": [
    "# 1/ create a mamal class with 1 attribute, 2 method \n",
    "# 2/ then create a subclass of mammal which is cat. New attribute include calll class attribute and st unique for dog.\n",
    "# 3/ "
   ]
  },
  {
   "cell_type": "code",
   "execution_count": 33,
   "metadata": {},
   "outputs": [],
   "source": [
    "class Mammal():\n",
    "    legs = 4\n",
    "    def __init__(self):\n",
    "        print(\"This is in __init__ which is automatically executed\")\n",
    "        self.food = ' Both meat and vegetable'\n",
    "        print(\"We added mammal's food which are meat and vegatable\")\n",
    "    def legs_count(self):\n",
    "              print(f' I have {self.legs} legs')\n",
    "\n",
    "class Dog(Mammal):\n",
    "    def __init__(self):\n",
    "        Mammal.__init__(self)\n",
    "        self.bark=\"wolf\"\n",
    "    def __del__(self):\n",
    "        print(\"ok its cannot\")\n",
    "        return \"ok\"\n",
    "        \n",
    "              "
   ]
  },
  {
   "cell_type": "code",
   "execution_count": 34,
   "metadata": {},
   "outputs": [
    {
     "name": "stdout",
     "output_type": "stream",
     "text": [
      "This is in __init__ which is automatically executed\n",
      "We added mammal's food which are meat and vegatable\n"
     ]
    }
   ],
   "source": [
    "a= mammal()"
   ]
  },
  {
   "cell_type": "code",
   "execution_count": 35,
   "metadata": {},
   "outputs": [
    {
     "name": "stdout",
     "output_type": "stream",
     "text": [
      "This is in __init__ which is automatically executed\n",
      "We added mammal's food which are meat and vegatable\n"
     ]
    }
   ],
   "source": [
    "a = Dog()"
   ]
  },
  {
   "cell_type": "code",
   "execution_count": 36,
   "metadata": {},
   "outputs": [],
   "source": [
    "del a "
   ]
  },
  {
   "cell_type": "code",
   "execution_count": null,
   "metadata": {},
   "outputs": [],
   "source": []
  }
 ],
 "metadata": {
  "kernelspec": {
   "display_name": "Python 3",
   "language": "python",
   "name": "python3"
  },
  "language_info": {
   "codemirror_mode": {
    "name": "ipython",
    "version": 3
   },
   "file_extension": ".py",
   "mimetype": "text/x-python",
   "name": "python",
   "nbconvert_exporter": "python",
   "pygments_lexer": "ipython3",
   "version": "3.7.1"
  }
 },
 "nbformat": 4,
 "nbformat_minor": 2
}
