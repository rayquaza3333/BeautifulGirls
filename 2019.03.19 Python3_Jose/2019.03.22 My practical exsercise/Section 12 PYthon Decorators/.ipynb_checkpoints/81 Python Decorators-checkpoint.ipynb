{
 "cells": [
  {
   "cell_type": "markdown",
   "metadata": {},
   "source": [
    "# 1/ Overall concept"
   ]
  },
  {
   "cell_type": "markdown",
   "metadata": {},
   "source": [
    "1/ Write a blank function and call it without parentless to see how it store the object.\n",
    "2/ Write function hello() which print \"Hello\"\n",
    "3/ Assign a variable to hello. anathor to hello(). See how it work.\n",
    "4/ Try __del__ the function and see if the variable still work >"
   ]
  },
  {
   "cell_type": "code",
   "execution_count": 2,
   "metadata": {},
   "outputs": [],
   "source": [
    "def blank_func():\n",
    "    pass"
   ]
  },
  {
   "cell_type": "code",
   "execution_count": 4,
   "metadata": {},
   "outputs": [
    {
     "data": {
      "text/plain": [
       "<function __main__.blank_func()>"
      ]
     },
     "execution_count": 4,
     "metadata": {},
     "output_type": "execute_result"
    }
   ],
   "source": [
    "a=blank_func\n",
    "a"
   ]
  },
  {
   "cell_type": "code",
   "execution_count": 17,
   "metadata": {},
   "outputs": [
    {
     "name": "stdout",
     "output_type": "stream",
     "text": [
      "Hello Hoang\n"
     ]
    }
   ],
   "source": [
    "def hello():\n",
    "    print(\"Hello Hoang\")\n",
    "a=hello\n",
    "b=hello()\n",
    " #this is a print output. Only value \n",
    "#from return statement can be assign to variable\n",
    "#Anyway, code inside function still run as it was called\n"
   ]
  },
  {
   "cell_type": "code",
   "execution_count": 19,
   "metadata": {},
   "outputs": [],
   "source": [
    "del hello"
   ]
  },
  {
   "cell_type": "code",
   "execution_count": 20,
   "metadata": {},
   "outputs": [
    {
     "name": "stdout",
     "output_type": "stream",
     "text": [
      "Hello Hoang\n"
     ]
    }
   ],
   "source": [
    "a() #variable still run as del statement just delete the link btw\n",
    "    # label hello and the function.\n",
    "    # white the 2 end link is still there."
   ]
  },
  {
   "cell_type": "markdown",
   "metadata": {},
   "source": [
    "1/ A function hello(name) print \"Hello\"+ name\n",
    "2/ Now write a function that have 2 inside function. Execute those function inside the mother function. (Note in notebook that it can only be execute inside that function.\n",
    "3/ return the function. assign to a variable by that return value,=. Use some conditional statement to make it more stick in your brain :))\n",
    "4/ write one more time . Make something happen right the time we assign the function to the variable and some more thing when we call the variable as a functionn. <<< cool() Function which say \"I am super cool\" =)\n"
   ]
  },
  {
   "cell_type": "code",
   "execution_count": 31,
   "metadata": {},
   "outputs": [
    {
     "name": "stdout",
     "output_type": "stream",
     "text": [
      "Hello Truc Anh\n",
      "Hello Hoang\n"
     ]
    }
   ],
   "source": [
    "def hello(name):\n",
    "    \n",
    "    print('Hello '+name)\n",
    "    \n",
    "    def flirt():\n",
    "        print('Today you look so pretty ' + name)\n",
    "    \n",
    "    def greet():\n",
    "        print(\"Go away\")\n",
    "    \n",
    "    if name == \"Truc Anh\":\n",
    "        return flirt\n",
    "    if name != \"Truc Anh\":\n",
    "        return greet\n",
    "\n",
    "chao_Truc_Anh=hello(\"Truc Anh\")\n",
    "chao_nguoi_binh_thuong=hello('Hoang')\n",
    "\n",
    "        "
   ]
  },
  {
   "cell_type": "code",
   "execution_count": 36,
   "metadata": {},
   "outputs": [
    {
     "name": "stdout",
     "output_type": "stream",
     "text": [
      "Today you look so pretty Truc Anh\n"
     ]
    }
   ],
   "source": [
    "chao_Truc_Anh()"
   ]
  },
  {
   "cell_type": "code",
   "execution_count": 33,
   "metadata": {},
   "outputs": [
    {
     "name": "stdout",
     "output_type": "stream",
     "text": [
      "Go away\n"
     ]
    }
   ],
   "source": [
    "chao_nguoi_binh_thuong()"
   ]
  },
  {
   "cell_type": "markdown",
   "metadata": {},
   "source": [
    "1/ create a function that take function as argument and execute that function inside\n",
    "2 / Remember to tell it do something that inform us about the result of execution"
   ]
  },
  {
   "cell_type": "code",
   "execution_count": 34,
   "metadata": {},
   "outputs": [],
   "source": [
    "def new_decorator(decorated_function):\n",
    "    \n",
    "    print(\"Hi, this code is before the decorated function\")\n",
    "    \n",
    "    decorated_function()\n",
    "    \n",
    "    print(\"Yeah, this is the final line of the function\")"
   ]
  },
  {
   "cell_type": "code",
   "execution_count": 37,
   "metadata": {},
   "outputs": [
    {
     "name": "stdout",
     "output_type": "stream",
     "text": [
      "Hi, this code is before the decorated function\n",
      "Today you look so pretty Truc Anh\n",
      "Yeah, this is the final line of the function\n"
     ]
    }
   ],
   "source": [
    "new_decorator(chao_Truc_Anh)"
   ]
  },
  {
   "cell_type": "markdown",
   "metadata": {},
   "source": [
    "Finally, let use function as an argument."
   ]
  },
  {
   "cell_type": "markdown",
   "metadata": {},
   "source": [
    "# Decorators"
   ]
  },
  {
   "cell_type": "markdown",
   "metadata": {},
   "source": [
    "1/ Dunctioni hello() return 'Hello Jose!.\n",
    "2/ Function other(a_function_as_an_arg): print something and print what the arg-function return. print another thing after. And return all of that func in return statement.\n",
    "3/ Try to use @, to make it faster"
   ]
  },
  {
   "cell_type": "code",
   "execution_count": 49,
   "metadata": {},
   "outputs": [],
   "source": [
    "def flirt(name_function):\n",
    "    \n",
    "    def full_scene():\n",
    "        print(\"Long time no see\")\n",
    "        \n",
    "        name_function()\n",
    "        \n",
    "        print(\"Have a nice day\")\n",
    "    return full_scene\n"
   ]
  },
  {
   "cell_type": "code",
   "execution_count": 50,
   "metadata": {},
   "outputs": [
    {
     "name": "stdout",
     "output_type": "stream",
     "text": [
      "Hello Truc Anh\n",
      "Long time no see\n",
      "Today you look so pretty Truc Anh\n",
      "Have a nice day\n"
     ]
    }
   ],
   "source": [
    "a= hello(\"Truc Anh\")\n",
    "b=flirt(a)\n",
    "b()"
   ]
  }
 ],
 "metadata": {
  "kernelspec": {
   "display_name": "Python 3",
   "language": "python",
   "name": "python3"
  },
  "language_info": {
   "codemirror_mode": {
    "name": "ipython",
    "version": 3
   },
   "file_extension": ".py",
   "mimetype": "text/x-python",
   "name": "python",
   "nbconvert_exporter": "python",
   "pygments_lexer": "ipython3",
   "version": "3.7.1"
  }
 },
 "nbformat": 4,
 "nbformat_minor": 2
}
