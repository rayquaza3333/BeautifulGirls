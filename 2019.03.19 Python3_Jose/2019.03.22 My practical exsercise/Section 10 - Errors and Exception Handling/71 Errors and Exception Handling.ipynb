{
 "cells": [
  {
   "cell_type": "markdown",
   "metadata": {},
   "source": [
    "1/ A function add a number to a number\n",
    "2/ Input a number by input() << Str <<< errors happen\n",
    "Use Try, except, else, finally keywords to inform yourself about the code. "
   ]
  },
  {
   "cell_type": "code",
   "execution_count": 2,
   "metadata": {},
   "outputs": [
    {
     "name": "stdout",
     "output_type": "stream",
     "text": [
      "Hey, input an integer: \n",
      "2\n",
      "Ok, great. I got this\n",
      "Hope this work ok!\n"
     ]
    }
   ],
   "source": [
    "while True:\n",
    "    try:\n",
    "        number= int(input(\"Hey, input an integer: \\n\"))\n",
    "    except:\n",
    "        print(\"OK, that not seem to be an integer. Please try again, bro\")\n",
    "        continue\n",
    "    else:\n",
    "        print(\"Ok, great. I got this\")\n",
    "        break\n",
    "    finally:\n",
    "        print(\"Hope this work ok!\")"
   ]
  },
  {
   "cell_type": "code",
   "execution_count": 3,
   "metadata": {},
   "outputs": [
    {
     "data": {
      "text/plain": [
       "2"
      ]
     },
     "execution_count": 3,
     "metadata": {},
     "output_type": "execute_result"
    }
   ],
   "source": [
    "a=number\n",
    "a"
   ]
  },
  {
   "cell_type": "code",
   "execution_count": null,
   "metadata": {},
   "outputs": [],
   "source": []
  }
 ],
 "metadata": {
  "kernelspec": {
   "display_name": "Python 3",
   "language": "python",
   "name": "python3"
  },
  "language_info": {
   "codemirror_mode": {
    "name": "ipython",
    "version": 3
   },
   "file_extension": ".py",
   "mimetype": "text/x-python",
   "name": "python",
   "nbconvert_exporter": "python",
   "pygments_lexer": "ipython3",
   "version": "3.7.1"
  }
 },
 "nbformat": 4,
 "nbformat_minor": 2
}
