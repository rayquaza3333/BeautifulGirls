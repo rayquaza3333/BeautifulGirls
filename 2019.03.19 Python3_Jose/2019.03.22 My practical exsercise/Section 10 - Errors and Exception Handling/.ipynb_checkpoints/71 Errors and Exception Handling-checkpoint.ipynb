{
 "cells": [
  {
   "cell_type": "markdown",
   "metadata": {},
   "source": [
    "1/ A function add a number to a number\n",
    "2/ Input a number by input() << Str <<< errors happen\n",
    "Use Try, except, else, finally keywords to inform yourself about the code. "
   ]
  },
  {
   "cell_type": "code",
   "execution_count": null,
   "metadata": {},
   "outputs": [],
   "source": [
    "3/ open a file with write only mode\n",
    "4/ "
   ]
  }
 ],
 "metadata": {
  "kernelspec": {
   "display_name": "Python 3",
   "language": "python",
   "name": "python3"
  },
  "language_info": {
   "codemirror_mode": {
    "name": "ipython",
    "version": 3
   },
   "file_extension": ".py",
   "mimetype": "text/x-python",
   "name": "python",
   "nbconvert_exporter": "python",
   "pygments_lexer": "ipython3",
   "version": "3.7.1"
  }
 },
 "nbformat": 4,
 "nbformat_minor": 2
}
