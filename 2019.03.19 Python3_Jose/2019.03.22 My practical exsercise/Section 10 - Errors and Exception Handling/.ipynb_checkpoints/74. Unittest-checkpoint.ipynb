{
 "cells": [
  {
   "cell_type": "code",
   "execution_count": 17,
   "metadata": {},
   "outputs": [
    {
     "name": "stdout",
     "output_type": "stream",
     "text": [
      "Overwriting test_file.py\n"
     ]
    }
   ],
   "source": [
    "%%writefile test_file.py\n",
    "def upcase_name(text):\n",
    "    return text.title()"
   ]
  },
  {
   "cell_type": "code",
   "execution_count": 29,
   "metadata": {},
   "outputs": [
    {
     "name": "stdout",
     "output_type": "stream",
     "text": [
      "Overwriting unittest.py\n"
     ]
    }
   ],
   "source": [
    "%%writefile unittest.py\n",
    "\n",
    "from test_file import upcase_name\n",
    "import unittest\n",
    "\n",
    "class test_object(unittest.TestCase):\n",
    "    def test12(self):\n",
    "        text='Pham quang truong hoang'\n",
    "        text=upcase_name(text)\n",
    "        self.AssertEqual(text,'Pham Quang Truong Hoang')\n",
    "if __name__==\"__main__\":\n",
    "    unittest.main()"
   ]
  },
  {
   "cell_type": "code",
   "execution_count": 30,
   "metadata": {},
   "outputs": [
    {
     "name": "stderr",
     "output_type": "stream",
     "text": [
      "Traceback (most recent call last):\n",
      "  File \"H:\\Dropbox\\2019.04.12 Coder\\2019.03.19 Complete Python Bootcamp Go from zero to hero in Python 3\\2019.03.22 My practical exsercise\\Section 10 - Errors and Exception Handling\\unittest.py\", line 3, in <module>\n",
      "    import unittest\n",
      "  File \"H:\\Dropbox\\2019.04.12 Coder\\2019.03.19 Complete Python Bootcamp Go from zero to hero in Python 3\\2019.03.22 My practical exsercise\\Section 10 - Errors and Exception Handling\\unittest.py\", line 5, in <module>\n",
      "    class Test1(unittest.TestCase):\n",
      "AttributeError: module 'unittest' has no attribute 'TestCase'\n"
     ]
    }
   ],
   "source": [
    "!unittest.py"
   ]
  },
  {
   "cell_type": "code",
   "execution_count": null,
   "metadata": {},
   "outputs": [],
   "source": []
  }
 ],
 "metadata": {
  "kernelspec": {
   "display_name": "Python 3",
   "language": "python",
   "name": "python3"
  },
  "language_info": {
   "codemirror_mode": {
    "name": "ipython",
    "version": 3
   },
   "file_extension": ".py",
   "mimetype": "text/x-python",
   "name": "python",
   "nbconvert_exporter": "python",
   "pygments_lexer": "ipython3",
   "version": "3.7.1"
  }
 },
 "nbformat": 4,
 "nbformat_minor": 2
}
