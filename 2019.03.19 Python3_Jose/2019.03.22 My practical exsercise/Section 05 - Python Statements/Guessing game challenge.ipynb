{
 "cells": [
  {
   "cell_type": "code",
   "execution_count": null,
   "metadata": {},
   "outputs": [],
   "source": [
    "print('''Hello buddy, you are invited to play the first game designed by me. \n",
    "      \\n I know this game is not really as fancy as those on the market but, playing this is \n",
    "      \\n just like giving me a hug, friend.\n",
    "      \\n So the game is called \"Guessing challenge\n",
    "      \\n IN the game, there is a random number from 1\" to 100\n",
    "      \\n Your job is to guess what it is.\n",
    "      \\n You can make as many guess as you want and you\\'ll get my icream when your give\n",
    "      \\n the correct guess.\n",
    "      \\n Good luck, and have fun,\n",
    "      \\n My friend <3''')\n",
    "from random import randint\n",
    "jackpot=randint(1,100)\n",
    "turn=0\n",
    "y=0\n",
    "while 1==1:\n",
    "    x=int(input('Please input the number you guess:'))\n",
    "    if turn==0:\n",
    "        if x==jackpot:\n",
    "            print('Congratulation, you have the correct guess, be ready for my cream!')\n",
    "            print(f\"You took {turn+1} guess to take this price\")\n",
    "            break\n",
    "        else:\n",
    "            if x >100 or x <1:\n",
    "                print(f' The number {x} is too far from the bounds, please re enter another number')\n",
    "                turn+=1\n",
    "                y=x\n",
    "            else:\n",
    "                if abs(x-jackpot) <=10:\n",
    "                    print('Yeah your number are within 10 from the Jackpot, so close')\n",
    "                    turn+=1\n",
    "                    y=x\n",
    "                else:\n",
    "                    print('Aw, this number is farther than 10 from the Jackpot,fighting my friend')\n",
    "                    turn+=1\n",
    "                    y=x\n",
    "    else:\n",
    "        if x==jackpot:\n",
    "            print('Congratulation, you have the correct guess, be ready for my cream!')\n",
    "            print(f\"You took {turn+1} guess to take this price\")\n",
    "            break\n",
    "        else:\n",
    "            if abs(x-y)==0:\n",
    "                print(\"Hey you've type the same number as the previous turns\")\n",
    "                turn+=1\n",
    "                y=x\n",
    "            else:\n",
    "                if (abs(x-jackpot) - abs(y-jackpot)) < 0:\n",
    "                    print(\"Great, the number is now closer to the jackpot\")\n",
    "                    turn+=1\n",
    "                    y=x\n",
    "                else:\n",
    "                    print(\"Hey, you are getting farther from the prize you desired\")\n",
    "                    turn+=1\n",
    "                    y=x\n",
    "\n",
    "\n"
   ]
  },
  {
   "cell_type": "code",
   "execution_count": null,
   "metadata": {},
   "outputs": [],
   "source": [
    "#try this code using list for counting guesses and compare distance to jackpot"
   ]
  },
  {
   "cell_type": "code",
   "execution_count": null,
   "metadata": {},
   "outputs": [],
   "source": [
    "import random\n",
    "\n",
    "num = random.randint(1,100)\n",
    "print(\"WELCOME TO GUESS ME!\")\n",
    "print(\"I'm thinking of a number between 1 and 100\")\n",
    "print(\"If your guess is more than 10 away from my number, I'll tell you you're COLD\")\n",
    "print(\"If your guess is within 10 of my number, I'll tell you you're WARM\")\n",
    "print(\"If your guess is farther than your most recent guess, I'll say you're getting COLDER\")\n",
    "print(\"If your guess is closer than your most recent guess, I'll say you're getting WARMER\")\n",
    "print(\"LET'S PLAY!\")\n",
    "guesses = [0]\n",
    "while True:\n",
    "    guess = int(input(\"I'm thinking of a number between 1 and 100.\\n  What is your guess? \"))\n",
    "    if guess < 1 or guess > 100:\n",
    "        print('OUT OF BOUNDS! Please try again: ')\n",
    "        continue\n",
    "    if guess == num:\n",
    "        print(f'CONGRATULATIONS, YOU GUESSED IT IN ONLY {len(guesses)} GUESSES!!')\n",
    "        break\n",
    "    guesses.append(guess)\n",
    "    if guesses[-2]==0:  \n",
    "        if abs(num-guess) < abs(num-guesses[-2]):\n",
    "            print('WARMER!')\n",
    "        else:\n",
    "            print('COLDER!')\n",
    "    else:\n",
    "        if abs(num-guess) <= 10:\n",
    "            print('WARM!')\n",
    "        else:\n",
    "            print('COLD!')"
   ]
  },
  {
   "cell_type": "code",
   "execution_count": null,
   "metadata": {},
   "outputs": [],
   "source": [
    "6\n",
    "3\n"
   ]
  }
 ],
 "metadata": {
  "kernelspec": {
   "display_name": "Python 3",
   "language": "python",
   "name": "python3"
  },
  "language_info": {
   "codemirror_mode": {
    "name": "ipython",
    "version": 3
   },
   "file_extension": ".py",
   "mimetype": "text/x-python",
   "name": "python",
   "nbconvert_exporter": "python",
   "pygments_lexer": "ipython3",
   "version": "3.7.1"
  }
 },
 "nbformat": 4,
 "nbformat_minor": 2
}
