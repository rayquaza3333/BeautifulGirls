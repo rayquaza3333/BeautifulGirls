{
 "cells": [
  {
   "cell_type": "code",
   "execution_count": 1,
   "metadata": {},
   "outputs": [
    {
     "name": "stdout",
     "output_type": "stream",
     "text": [
      "This is True\n"
     ]
    }
   ],
   "source": [
    "if True:\n",
    "    print('This is True')"
   ]
  },
  {
   "cell_type": "code",
   "execution_count": 6,
   "metadata": {},
   "outputs": [
    {
     "name": "stdout",
     "output_type": "stream",
     "text": [
      "I am not hungry right now\n"
     ]
    }
   ],
   "source": [
    "full = True\n",
    "if full:\n",
    "    print('I am not hungry right now')\n",
    "else:\n",
    "    print('I need food')"
   ]
  },
  {
   "cell_type": "code",
   "execution_count": 1,
   "metadata": {},
   "outputs": [
    {
     "name": "stdout",
     "output_type": "stream",
     "text": [
      "I want to have dinner\n"
     ]
    }
   ],
   "source": [
    "status = 'hungry'\n",
    "if status == 'full':\n",
    "    print('I am not hungry right now')\n",
    "elif status == 'thisty':\n",
    "    print('Can I have a cup of water please?')\n",
    "elif status == 'hungry':\n",
    "    print('I want to have dinner')\n",
    "else:\n",
    "    print('I don\\t know, follow whatever you do, bro')"
   ]
  },
  {
   "cell_type": "code",
   "execution_count": 2,
   "metadata": {},
   "outputs": [
    {
     "data": {
      "text/plain": [
       "<enumerate at 0x2a4285ede58>"
      ]
     },
     "execution_count": 2,
     "metadata": {},
     "output_type": "execute_result"
    }
   ],
   "source": [
    "enumerate(\"asdas\")"
   ]
  },
  {
   "cell_type": "code",
   "execution_count": 3,
   "metadata": {},
   "outputs": [],
   "source": [
    "a = enumerate(\"asdas\")"
   ]
  },
  {
   "cell_type": "code",
   "execution_count": 6,
   "metadata": {},
   "outputs": [
    {
     "data": {
      "text/plain": [
       "{0: 'a', 1: 's', 2: 'd', 3: 'a', 4: 's'}"
      ]
     },
     "execution_count": 6,
     "metadata": {},
     "output_type": "execute_result"
    }
   ],
   "source": [
    "dict(a)"
   ]
  },
  {
   "cell_type": "code",
   "execution_count": 8,
   "metadata": {},
   "outputs": [
    {
     "name": "stdout",
     "output_type": "stream",
     "text": [
      "a\n",
      "s\n",
      "d\n",
      "a\n",
      "s\n",
      "d\n"
     ]
    }
   ],
   "source": [
    "for x in \"asdasd\":\n",
    "    print(x)\n",
    "    "
   ]
  },
  {
   "cell_type": "code",
   "execution_count": 9,
   "metadata": {},
   "outputs": [
    {
     "name": "stdout",
     "output_type": "stream",
     "text": [
      "d\n"
     ]
    }
   ],
   "source": [
    "print(x)"
   ]
  },
  {
   "cell_type": "code",
   "execution_count": 10,
   "metadata": {},
   "outputs": [
    {
     "ename": "NameError",
     "evalue": "name 'ok' is not defined",
     "output_type": "error",
     "traceback": [
      "\u001b[1;31m---------------------------------------------------------------------------\u001b[0m",
      "\u001b[1;31mNameError\u001b[0m                                 Traceback (most recent call last)",
      "\u001b[1;32m<ipython-input-10-92a949fd4184>\u001b[0m in \u001b[0;36m<module>\u001b[1;34m\u001b[0m\n\u001b[1;32m----> 1\u001b[1;33m \u001b[0mok\u001b[0m\u001b[1;33m\u001b[0m\u001b[1;33m\u001b[0m\u001b[0m\n\u001b[0m",
      "\u001b[1;31mNameError\u001b[0m: name 'ok' is not defined"
     ]
    }
   ],
   "source": [
    "ok\n"
   ]
  },
  {
   "cell_type": "code",
   "execution_count": 14,
   "metadata": {},
   "outputs": [
    {
     "data": {
      "text/plain": [
       "{'__name__': '__main__',\n",
       " '__doc__': 'Automatically created module for IPython interactive environment',\n",
       " '__package__': None,\n",
       " '__loader__': None,\n",
       " '__spec__': None,\n",
       " '__builtin__': <module 'builtins' (built-in)>,\n",
       " '__builtins__': <module 'builtins' (built-in)>,\n",
       " '_ih': ['',\n",
       "  \"status = 'hungry'\\nif status == 'full':\\n    print('I am not hungry right now')\\nelif status == 'thisty':\\n    print('Can I have a cup of water please?')\\nelif status == 'hungry':\\n    print('I want to have dinner')\\nelse:\\n    print('I don\\\\t know, follow whatever you do, bro')\",\n",
       "  'enumerate(\"asdas\")',\n",
       "  'a = enumerate(\"asdas\")',\n",
       "  'a[2]',\n",
       "  \"a['2']\",\n",
       "  'dict(a)',\n",
       "  'for x in \"asdasd\":\\n    print x',\n",
       "  'for x in \"asdasd\":\\n    print(x)\\n    ',\n",
       "  'print(x)',\n",
       "  'ok',\n",
       "  'global()',\n",
       "  'global(asd)',\n",
       "  'globals(asd)',\n",
       "  'globals()'],\n",
       " '_oh': {2: <enumerate at 0x2a4285ede58>,\n",
       "  6: {0: 'a', 1: 's', 2: 'd', 3: 'a', 4: 's'}},\n",
       " '_dh': ['H:\\\\Dropbox\\\\2019.04.12 Coder\\\\2019.03.19 Complete Python Bootcamp Go from zero to hero in Python 3\\\\2019.03.22 My practical exsercise\\\\Section 05 - Python Statements'],\n",
       " 'In': ['',\n",
       "  \"status = 'hungry'\\nif status == 'full':\\n    print('I am not hungry right now')\\nelif status == 'thisty':\\n    print('Can I have a cup of water please?')\\nelif status == 'hungry':\\n    print('I want to have dinner')\\nelse:\\n    print('I don\\\\t know, follow whatever you do, bro')\",\n",
       "  'enumerate(\"asdas\")',\n",
       "  'a = enumerate(\"asdas\")',\n",
       "  'a[2]',\n",
       "  \"a['2']\",\n",
       "  'dict(a)',\n",
       "  'for x in \"asdasd\":\\n    print x',\n",
       "  'for x in \"asdasd\":\\n    print(x)\\n    ',\n",
       "  'print(x)',\n",
       "  'ok',\n",
       "  'global()',\n",
       "  'global(asd)',\n",
       "  'globals(asd)',\n",
       "  'globals()'],\n",
       " 'Out': {2: <enumerate at 0x2a4285ede58>,\n",
       "  6: {0: 'a', 1: 's', 2: 'd', 3: 'a', 4: 's'}},\n",
       " 'get_ipython': <bound method InteractiveShell.get_ipython of <ipykernel.zmqshell.ZMQInteractiveShell object at 0x000002A42796DB38>>,\n",
       " 'exit': <IPython.core.autocall.ZMQExitAutocall at 0x2a4284ea048>,\n",
       " 'quit': <IPython.core.autocall.ZMQExitAutocall at 0x2a4284ea048>,\n",
       " '_': {0: 'a', 1: 's', 2: 'd', 3: 'a', 4: 's'},\n",
       " '__': <enumerate at 0x2a4285ede58>,\n",
       " '___': '',\n",
       " '_i': 'globals(asd)',\n",
       " '_ii': 'global(asd)',\n",
       " '_iii': 'global()',\n",
       " '_i1': \"status = 'hungry'\\nif status == 'full':\\n    print('I am not hungry right now')\\nelif status == 'thisty':\\n    print('Can I have a cup of water please?')\\nelif status == 'hungry':\\n    print('I want to have dinner')\\nelse:\\n    print('I don\\\\t know, follow whatever you do, bro')\",\n",
       " 'status': 'hungry',\n",
       " '_i2': 'enumerate(\"asdas\")',\n",
       " '_2': <enumerate at 0x2a4285ede58>,\n",
       " '_i3': 'a = enumerate(\"asdas\")',\n",
       " 'a': <enumerate at 0x2a4285ffd38>,\n",
       " '_i4': 'a[2]',\n",
       " '_i5': \"a['2']\",\n",
       " '_i6': 'dict(a)',\n",
       " '_6': {0: 'a', 1: 's', 2: 'd', 3: 'a', 4: 's'},\n",
       " '_i7': 'for x in \"asdasd\":\\n    print x',\n",
       " '_i8': 'for x in \"asdasd\":\\n    print(x)\\n    ',\n",
       " 'x': 'd',\n",
       " '_i9': 'print(x)',\n",
       " '_i10': 'ok',\n",
       " '_i11': 'global()',\n",
       " '_i12': 'global(asd)',\n",
       " '_i13': 'globals(asd)',\n",
       " '_i14': 'globals()'}"
      ]
     },
     "execution_count": 14,
     "metadata": {},
     "output_type": "execute_result"
    }
   ],
   "source": [
    "globals()\n"
   ]
  },
  {
   "cell_type": "code",
   "execution_count": null,
   "metadata": {},
   "outputs": [],
   "source": []
  }
 ],
 "metadata": {
  "kernelspec": {
   "display_name": "Python 3",
   "language": "python",
   "name": "python3"
  },
  "language_info": {
   "codemirror_mode": {
    "name": "ipython",
    "version": 3
   },
   "file_extension": ".py",
   "mimetype": "text/x-python",
   "name": "python",
   "nbconvert_exporter": "python",
   "pygments_lexer": "ipython3",
   "version": "3.7.1"
  }
 },
 "nbformat": 4,
 "nbformat_minor": 2
}
