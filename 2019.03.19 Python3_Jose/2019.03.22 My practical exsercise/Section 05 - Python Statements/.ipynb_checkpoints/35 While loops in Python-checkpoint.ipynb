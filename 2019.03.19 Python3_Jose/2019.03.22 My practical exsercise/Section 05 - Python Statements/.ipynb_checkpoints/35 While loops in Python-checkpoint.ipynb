{
 "cells": [
  {
   "cell_type": "markdown",
   "metadata": {},
   "source": [
    "1/while x < 5, print the current value of x"
   ]
  },
  {
   "cell_type": "code",
   "execution_count": 23,
   "metadata": {
    "scrolled": true
   },
   "outputs": [
    {
     "name": "stdout",
     "output_type": "stream",
     "text": [
      "0 is less than 5, keep adding one more unit to it\n",
      "1 is less than 5, keep adding one more unit to it\n",
      "2 is less than 5, keep adding one more unit to it\n",
      "3 is less than 5, keep adding one more unit to it\n",
      "4 is less than 5, keep adding one more unit to it\n",
      "Now x is no longer less than but equal 5\n"
     ]
    }
   ],
   "source": [
    "x= 0\n",
    "while x <5:\n",
    "    print(x,'is less than 5, keep adding one more unit to it')\n",
    "    x += 1\n",
    "else:\n",
    "    if x==5:\n",
    "        print('Now x is no longer less than but equal 5')\n",
    "    elif x>5:\n",
    "        print('There \\'s some error here, please check again')\n",
    "        "
   ]
  },
  {
   "cell_type": "markdown",
   "metadata": {},
   "source": [
    "3/ An  example with break"
   ]
  },
  {
   "cell_type": "code",
   "execution_count": 27,
   "metadata": {},
   "outputs": [
    {
     "name": "stdout",
     "output_type": "stream",
     "text": [
      "0 is less than 5, keep adding one more unit to it\n",
      "1 is less than 5, keep adding one more unit to it\n",
      "2 is less than 5, keep adding one more unit to it\n",
      "The loop had been set up to stop at x = 3\n"
     ]
    }
   ],
   "source": [
    "x= 0\n",
    "while x <5:\n",
    "    if x!=3:\n",
    "        print(x,'is less than 5, keep adding one more unit to it')\n",
    "    elif x==3:\n",
    "        print('The loop had been set up to stop at x = 3')\n",
    "        break\n",
    "    x += 1\n",
    "else:\n",
    "    if x==5:\n",
    "        print('Now x is no longer less than but equal 5')\n",
    "    elif x>5:\n",
    "        print('There \\'s some error here, please check again')\n",
    "        "
   ]
  },
  {
   "cell_type": "markdown",
   "metadata": {},
   "source": [
    "4/ An example with continue"
   ]
  },
  {
   "cell_type": "code",
   "execution_count": 26,
   "metadata": {},
   "outputs": [
    {
     "name": "stdout",
     "output_type": "stream",
     "text": [
      "0 is less than 5, keep adding one more unit to it\n",
      "1 is less than 5, keep adding one more unit to it\n",
      "2 is less than 5, keep adding one more unit to it\n",
      "The integer 3 had been ban\n",
      "4 is less than 5, keep adding one more unit to it\n",
      "Now x is no longer less than but equal 5\n"
     ]
    }
   ],
   "source": [
    "x= 0\n",
    "while x <5:\n",
    "    if x!=3:\n",
    "        print(x,'is less than 5, keep adding one more unit to it')\n",
    "    elif x==3:\n",
    "        print('The integer 3 had been ban')\n",
    "    x += 1\n",
    "    continue\n",
    "else:\n",
    "    if x==5:\n",
    "        print('Now x is no longer less than but equal 5')\n",
    "    elif x>5:\n",
    "        print('There \\'s some error here, please check again')\n",
    "        "
   ]
  },
  {
   "cell_type": "markdown",
   "metadata": {},
   "source": [
    "5/ An example with pass"
   ]
  },
  {
   "cell_type": "code",
   "execution_count": 34,
   "metadata": {},
   "outputs": [
    {
     "name": "stdout",
     "output_type": "stream",
     "text": [
      "0 is less than 5, keep adding one more unit to it\n",
      "1 is less than 5, keep adding one more unit to it\n",
      "2 is less than 5, keep adding one more unit to it\n",
      "The integer 3 had been ban\n",
      "4 is less than 5, keep adding one more unit to it\n"
     ]
    }
   ],
   "source": [
    "x= 0\n",
    "while x <5:\n",
    "    if x!=3:\n",
    "        print(x,'is less than 5, keep adding one more unit to it')\n",
    "    elif x==3:\n",
    "        print('The integer 3 had been ban')\n",
    "    x += 1\n",
    "    continue\n",
    "else:\n",
    "    pass\n",
    "    \n",
    "        "
   ]
  },
  {
   "cell_type": "markdown",
   "metadata": {},
   "source": [
    "6/ An example with elif and else << have been done above\n"
   ]
  }
 ],
 "metadata": {
  "kernelspec": {
   "display_name": "Python 3",
   "language": "python",
   "name": "python3"
  },
  "language_info": {
   "codemirror_mode": {
    "name": "ipython",
    "version": 3
   },
   "file_extension": ".py",
   "mimetype": "text/x-python",
   "name": "python",
   "nbconvert_exporter": "python",
   "pygments_lexer": "ipython3",
   "version": "3.7.1"
  }
 },
 "nbformat": 4,
 "nbformat_minor": 2
}
