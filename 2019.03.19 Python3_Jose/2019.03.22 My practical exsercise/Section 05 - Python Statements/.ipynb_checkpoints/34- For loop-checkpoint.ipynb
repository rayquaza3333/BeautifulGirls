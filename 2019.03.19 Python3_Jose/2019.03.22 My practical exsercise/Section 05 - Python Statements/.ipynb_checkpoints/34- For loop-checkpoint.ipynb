{
 "cells": [
  {
   "cell_type": "markdown",
   "metadata": {},
   "source": [
    "1/ list 1>>10, print 10 times anything."
   ]
  },
  {
   "cell_type": "code",
   "execution_count": 1,
   "metadata": {},
   "outputs": [
    {
     "name": "stdout",
     "output_type": "stream",
     "text": [
      "1\n",
      "2\n",
      "3\n",
      "4\n",
      "5\n",
      "6\n",
      "7\n",
      "8\n",
      "9\n",
      "10\n"
     ]
    }
   ],
   "source": [
    "x=[1,2,3,4,5,6,7,8,9,10]\n",
    "for num in x:\n",
    "    print(num)"
   ]
  },
  {
   "cell_type": "markdown",
   "metadata": {},
   "source": [
    "2/Print even and odd number"
   ]
  },
  {
   "cell_type": "code",
   "execution_count": 2,
   "metadata": {},
   "outputs": [
    {
     "name": "stdout",
     "output_type": "stream",
     "text": [
      "1 is an odd number\n",
      "2 is an even number\n",
      "3 is an odd number\n",
      "4 is an even number\n",
      "5 is an odd number\n",
      "6 is an even number\n",
      "7 is an odd number\n",
      "8 is an even number\n",
      "9 is an odd number\n",
      "10 is an even number\n"
     ]
    }
   ],
   "source": [
    "for num in x:\n",
    "    if num%2==0:\n",
    "        print(num,'is an even number')\n",
    "    else:\n",
    "        print(num,'is an odd number')\n",
    "    "
   ]
  },
  {
   "cell_type": "markdown",
   "metadata": {},
   "source": [
    "3/ Get sum of all number from 0 to 10"
   ]
  },
  {
   "cell_type": "code",
   "execution_count": 8,
   "metadata": {},
   "outputs": [
    {
     "name": "stdout",
     "output_type": "stream",
     "text": [
      "The sum of this list is: 55\n"
     ]
    }
   ],
   "source": [
    "y = 0\n",
    "for num in x:\n",
    "    y += num\n",
    "    if num == max(x):\n",
    "        print('The sum of this list is:',y)"
   ]
  },
  {
   "cell_type": "markdown",
   "metadata": {},
   "source": [
    "4/ Make an example for string."
   ]
  },
  {
   "cell_type": "code",
   "execution_count": 10,
   "metadata": {},
   "outputs": [
    {
     "name": "stdout",
     "output_type": "stream",
     "text": [
      "M\n",
      "r\n",
      ".\n",
      "G\n",
      "o\n",
      "l\n",
      "l\n",
      " \n",
      "e\n",
      "a\n",
      "t\n",
      " \n",
      "s\n",
      "h\n",
      "i\n",
      "t\n"
     ]
    }
   ],
   "source": [
    "string='Mr.Goll eat shit'\n",
    "for letter in string:\n",
    "    print(letter)"
   ]
  },
  {
   "cell_type": "code",
   "execution_count": 19,
   "metadata": {},
   "outputs": [
    {
     "name": "stdout",
     "output_type": "stream",
     "text": [
      "Anh loi Thanh an 0 cuc cut\n",
      "Anh loi Thanh so cool \n",
      "\n",
      "Anh loi Thanh an 1 cuc cut\n",
      "Anh loi Thanh so cool \n",
      "\n",
      "Anh loi Thanh an 2 cuc cut\n",
      "Anh loi Thanh so cool \n",
      "\n",
      "Anh loi Thanh an 3 cuc cut\n",
      "Anh loi Thanh so cool \n",
      "\n",
      "Anh loi Thanh an 4 cuc cut\n",
      "Anh loi Thanh so cool \n",
      "\n",
      "Anh loi Thanh an 5 cuc cut\n",
      "Anh loi Thanh so cool \n",
      "\n",
      "Anh loi Thanh an 5 cuc cut\n",
      "Anh loi Thanh so cool \n",
      "\n",
      "Anh loi Thanh an 7 cuc cut\n",
      "Anh loi Thanh so cool \n",
      "\n",
      "Anh loi Thanh an 8 cuc cut\n",
      "Anh loi Thanh so cool \n",
      "\n",
      "Anh loi Thanh an 9 cuc cut\n",
      "Anh loi Thanh so cool \n",
      "\n",
      "Anh loi Thanh an 10 cuc cut\n",
      "Anh loi Thanh so cool \n",
      "\n",
      "Anh loi Thanh an 7 cuc cut\n",
      "Anh loi Thanh so cool \n",
      "\n",
      "Anh loi Thanh an 12 cuc cut\n",
      "Anh loi Thanh so cool \n",
      "\n",
      "Anh loi Thanh an 13 cuc cut\n",
      "Anh loi Thanh so cool \n",
      "\n",
      "Anh loi Thanh an 14 cuc cut\n",
      "Anh loi Thanh so cool \n",
      "\n",
      "Anh loi Thanh an 10 cuc cut\n",
      "Anh loi Thanh so cool \n",
      "\n"
     ]
    }
   ],
   "source": [
    "for letter in string:\n",
    "    print('Anh loi Thanh an',string.index(letter),'cuc cut')\n",
    "    print('Anh loi Thanh so cool \\n')\n",
    "    "
   ]
  },
  {
   "cell_type": "markdown",
   "metadata": {},
   "source": [
    "5/ Print elements in a tuple"
   ]
  },
  {
   "cell_type": "code",
   "execution_count": 24,
   "metadata": {},
   "outputs": [
    {
     "name": "stdout",
     "output_type": "stream",
     "text": [
      "1 is in the same tuple with 2\n",
      "2 is in the same tuple with 3\n",
      "3 is in the same tuple with 1\n"
     ]
    }
   ],
   "source": [
    "list=[(1,2),(2,3),(3,1)]\n",
    "for a,b in tuple(list):\n",
    "    print(a,'is in the same tuple with',b)"
   ]
  },
  {
   "cell_type": "markdown",
   "metadata": {},
   "source": [
    "6/ Print all element in list of tuple"
   ]
  },
  {
   "cell_type": "code",
   "execution_count": 26,
   "metadata": {},
   "outputs": [
    {
     "name": "stdout",
     "output_type": "stream",
     "text": [
      "(1, 2)\n",
      "(2, 3)\n",
      "(3, 1)\n"
     ]
    }
   ],
   "source": [
    "for a in list:\n",
    "    print(a)"
   ]
  },
  {
   "cell_type": "markdown",
   "metadata": {},
   "source": [
    "7/ Use built in method for dict:"
   ]
  },
  {
   "cell_type": "markdown",
   "metadata": {},
   "source": [
    "7-1/ d.key()"
   ]
  },
  {
   "cell_type": "code",
   "execution_count": 37,
   "metadata": {},
   "outputs": [
    {
     "name": "stdout",
     "output_type": "stream",
     "text": [
      "dict_items([('k1', 'Hello'), ('k2', 'Anh loi Thanh'), ('k3', 'an cut'), ('k4', 'Bye bye')]) dict_keys(['k1', 'k2', 'k3', 'k4']) dict_values(['Hello', 'Anh loi Thanh', 'an cut', 'Bye bye'])\n"
     ]
    }
   ],
   "source": [
    "d={'k1':'Hello','k2':'Anh loi Thanh','k3':'an cut','k4':'Bye bye'}\n",
    "print(d.items(),\n",
    "d.keys(),\n",
    "d.values())"
   ]
  },
  {
   "cell_type": "code",
   "execution_count": 77,
   "metadata": {},
   "outputs": [
    {
     "name": "stdout",
     "output_type": "stream",
     "text": [
      "Hello Anh loi Thanh an cut Bye bye\n"
     ]
    }
   ],
   "source": [
    "print(f\"{d['k1']} {d['k2']} {d['k3']} {d['k4']}\")\n"
   ]
  },
  {
   "cell_type": "code",
   "execution_count": 49,
   "metadata": {},
   "outputs": [
    {
     "data": {
      "text/plain": [
       "'Hello'"
      ]
     },
     "execution_count": 49,
     "metadata": {},
     "output_type": "execute_result"
    }
   ],
   "source": [
    "d['k1']"
   ]
  },
  {
   "cell_type": "code",
   "execution_count": 57,
   "metadata": {},
   "outputs": [
    {
     "name": "stdout",
     "output_type": "stream",
     "text": [
      "{'Hello'}\n"
     ]
    }
   ],
   "source": [
    "print('{}'.format({d['k1']}))"
   ]
  },
  {
   "cell_type": "code",
   "execution_count": 73,
   "metadata": {},
   "outputs": [
    {
     "name": "stdout",
     "output_type": "stream",
     "text": [
      "Hello\n"
     ]
    }
   ],
   "source": [
    "print(f\"{d['k1']}\")"
   ]
  },
  {
   "cell_type": "code",
   "execution_count": 76,
   "metadata": {},
   "outputs": [
    {
     "name": "stdout",
     "output_type": "stream",
     "text": [
      "Hello Anh loi Thanh an cut  Bye bye\n"
     ]
    }
   ],
   "source": [
    "print(f\"{d['k1']} {d['k2']} {d['k3']}  {d['k4']}\")"
   ]
  },
  {
   "cell_type": "code",
   "execution_count": null,
   "metadata": {},
   "outputs": [],
   "source": []
  }
 ],
 "metadata": {
  "kernelspec": {
   "display_name": "Python 3",
   "language": "python",
   "name": "python3"
  },
  "language_info": {
   "codemirror_mode": {
    "name": "ipython",
    "version": 3
   },
   "file_extension": ".py",
   "mimetype": "text/x-python",
   "name": "python",
   "nbconvert_exporter": "python",
   "pygments_lexer": "ipython3",
   "version": "3.7.1"
  }
 },
 "nbformat": 4,
 "nbformat_minor": 2
}
